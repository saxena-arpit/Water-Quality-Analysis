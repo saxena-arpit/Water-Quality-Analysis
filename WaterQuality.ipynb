{
 "cells": [
  {
   "cell_type": "code",
   "execution_count": 2,
   "metadata": {
    "collapsed": true
   },
   "outputs": [],
   "source": [
    "import pandas as pd\n",
    "import numpy as np\n",
    "import matplotlib.pyplot as plt\n",
    "%matplotlib inline\n",
    "import datetime\n",
    "import encodings #dataset might not be in desired format so to convert data using encode.\n",
    "from matplotlib.gridspec import GridSpec\n",
    "from matplotlib.offsetbox import AnchoredText\n",
    "from matplotlib.backends.backend_pdf import PdfPages #to convert my plotted graphs to pdf\n",
    "import seaborn as sns\n",
    "import sklearn\n",
    "from sklearn.preprocessing import LabelEncoder "
   ]
  },
  {
   "cell_type": "code",
   "execution_count": 4,
   "metadata": {
    "collapsed": false
   },
   "outputs": [],
   "source": [
    "df=pd.read_csv(\"1.csv\",encoding=\"latin1\")"
   ]
  },
  {
   "cell_type": "code",
   "execution_count": 7,
   "metadata": {
    "collapsed": false
   },
   "outputs": [
    {
     "data": {
      "text/html": [
       "<div>\n",
       "<table border=\"1\" class=\"dataframe\">\n",
       "  <thead>\n",
       "    <tr style=\"text-align: right;\">\n",
       "      <th></th>\n",
       "      <th>State Name</th>\n",
       "      <th>District Name</th>\n",
       "      <th>Block Name</th>\n",
       "      <th>Panchayat Name</th>\n",
       "      <th>Village Name</th>\n",
       "      <th>Habitation Name</th>\n",
       "      <th>Quality Parameter</th>\n",
       "      <th>Year</th>\n",
       "    </tr>\n",
       "  </thead>\n",
       "  <tbody>\n",
       "    <tr>\n",
       "      <th>0</th>\n",
       "      <td>ANDHRA PRADESH</td>\n",
       "      <td>EAST GODAVARI(04)</td>\n",
       "      <td>PRATHIPADU(10)</td>\n",
       "      <td>GOKAVARAM(04)</td>\n",
       "      <td>VANTHADA(014 )</td>\n",
       "      <td>VANTHADA(0404410014010400)</td>\n",
       "      <td>Salinity</td>\n",
       "      <td>1/4/2009</td>\n",
       "    </tr>\n",
       "    <tr>\n",
       "      <th>1</th>\n",
       "      <td>ANDHRA PRADESH</td>\n",
       "      <td>EAST GODAVARI(04)</td>\n",
       "      <td>PRATHIPADU(10)</td>\n",
       "      <td>GOKAVARAM(04)</td>\n",
       "      <td>PANDAVULAPALEM(022 )</td>\n",
       "      <td>PANDAVULAPALEM(0404410022010400)</td>\n",
       "      <td>Fluoride</td>\n",
       "      <td>1/4/2009</td>\n",
       "    </tr>\n",
       "    <tr>\n",
       "      <th>2</th>\n",
       "      <td>ANDHRA PRADESH</td>\n",
       "      <td>EAST GODAVARI(04)</td>\n",
       "      <td>PRATHIPADU(10)</td>\n",
       "      <td>GAJJANAPUDI(06)</td>\n",
       "      <td>G. KOTHURU(023 )</td>\n",
       "      <td>G. KOTHURU(0404410023010600)</td>\n",
       "      <td>Salinity</td>\n",
       "      <td>1/4/2009</td>\n",
       "    </tr>\n",
       "    <tr>\n",
       "      <th>3</th>\n",
       "      <td>ANDHRA PRADESH</td>\n",
       "      <td>EAST GODAVARI(04)</td>\n",
       "      <td>PRATHIPADU(10)</td>\n",
       "      <td>GAJJANAPUDI(06)</td>\n",
       "      <td>GAJJANAPUDI(029 )</td>\n",
       "      <td>GAJJANAPUDI(0404410029010600)</td>\n",
       "      <td>Salinity</td>\n",
       "      <td>1/4/2009</td>\n",
       "    </tr>\n",
       "    <tr>\n",
       "      <th>4</th>\n",
       "      <td>ANDHRA PRADESH</td>\n",
       "      <td>EAST GODAVARI(04)</td>\n",
       "      <td>PRATHIPADU(10)</td>\n",
       "      <td>CHINTALURU(10)</td>\n",
       "      <td>CHINTALURU(028 )</td>\n",
       "      <td>CHINTALURU(0404410028011000)</td>\n",
       "      <td>Salinity</td>\n",
       "      <td>1/4/2009</td>\n",
       "    </tr>\n",
       "  </tbody>\n",
       "</table>\n",
       "</div>"
      ],
      "text/plain": [
       "       State Name      District Name      Block Name   Panchayat Name  \\\n",
       "0  ANDHRA PRADESH  EAST GODAVARI(04)  PRATHIPADU(10)    GOKAVARAM(04)   \n",
       "1  ANDHRA PRADESH  EAST GODAVARI(04)  PRATHIPADU(10)    GOKAVARAM(04)   \n",
       "2  ANDHRA PRADESH  EAST GODAVARI(04)  PRATHIPADU(10)  GAJJANAPUDI(06)   \n",
       "3  ANDHRA PRADESH  EAST GODAVARI(04)  PRATHIPADU(10)  GAJJANAPUDI(06)   \n",
       "4  ANDHRA PRADESH  EAST GODAVARI(04)  PRATHIPADU(10)   CHINTALURU(10)   \n",
       "\n",
       "           Village Name                   Habitation Name Quality Parameter  \\\n",
       "0        VANTHADA(014 )        VANTHADA(0404410014010400)          Salinity   \n",
       "1  PANDAVULAPALEM(022 )  PANDAVULAPALEM(0404410022010400)          Fluoride   \n",
       "2      G. KOTHURU(023 )      G. KOTHURU(0404410023010600)          Salinity   \n",
       "3     GAJJANAPUDI(029 )     GAJJANAPUDI(0404410029010600)          Salinity   \n",
       "4      CHINTALURU(028 )      CHINTALURU(0404410028011000)          Salinity   \n",
       "\n",
       "       Year  \n",
       "0  1/4/2009  \n",
       "1  1/4/2009  \n",
       "2  1/4/2009  \n",
       "3  1/4/2009  \n",
       "4  1/4/2009  "
      ]
     },
     "execution_count": 7,
     "metadata": {},
     "output_type": "execute_result"
    }
   ],
   "source": [
    "df.head(5)"
   ]
  },
  {
   "cell_type": "code",
   "execution_count": 9,
   "metadata": {
    "collapsed": true
   },
   "outputs": [],
   "source": [
    "df['Year']=pd.to_datetime(df['Year'])"
   ]
  },
  {
   "cell_type": "code",
   "execution_count": 16,
   "metadata": {
    "collapsed": true
   },
   "outputs": [],
   "source": [
    "df['Session']=df['Year'].dt.year"
   ]
  },
  {
   "cell_type": "code",
   "execution_count": 18,
   "metadata": {
    "collapsed": false
   },
   "outputs": [
    {
     "data": {
      "text/html": [
       "<div>\n",
       "<table border=\"1\" class=\"dataframe\">\n",
       "  <thead>\n",
       "    <tr style=\"text-align: right;\">\n",
       "      <th></th>\n",
       "      <th>State Name</th>\n",
       "      <th>District Name</th>\n",
       "      <th>Block Name</th>\n",
       "      <th>Panchayat Name</th>\n",
       "      <th>Village Name</th>\n",
       "      <th>Habitation Name</th>\n",
       "      <th>Quality Parameter</th>\n",
       "      <th>Year</th>\n",
       "      <th>Session</th>\n",
       "    </tr>\n",
       "  </thead>\n",
       "  <tbody>\n",
       "    <tr>\n",
       "      <th>0</th>\n",
       "      <td>ANDHRA PRADESH</td>\n",
       "      <td>EAST GODAVARI(04)</td>\n",
       "      <td>PRATHIPADU(10)</td>\n",
       "      <td>GOKAVARAM(04)</td>\n",
       "      <td>VANTHADA(014 )</td>\n",
       "      <td>VANTHADA(0404410014010400)</td>\n",
       "      <td>Salinity</td>\n",
       "      <td>2009-01-04</td>\n",
       "      <td>2009</td>\n",
       "    </tr>\n",
       "    <tr>\n",
       "      <th>1</th>\n",
       "      <td>ANDHRA PRADESH</td>\n",
       "      <td>EAST GODAVARI(04)</td>\n",
       "      <td>PRATHIPADU(10)</td>\n",
       "      <td>GOKAVARAM(04)</td>\n",
       "      <td>PANDAVULAPALEM(022 )</td>\n",
       "      <td>PANDAVULAPALEM(0404410022010400)</td>\n",
       "      <td>Fluoride</td>\n",
       "      <td>2009-01-04</td>\n",
       "      <td>2009</td>\n",
       "    </tr>\n",
       "    <tr>\n",
       "      <th>2</th>\n",
       "      <td>ANDHRA PRADESH</td>\n",
       "      <td>EAST GODAVARI(04)</td>\n",
       "      <td>PRATHIPADU(10)</td>\n",
       "      <td>GAJJANAPUDI(06)</td>\n",
       "      <td>G. KOTHURU(023 )</td>\n",
       "      <td>G. KOTHURU(0404410023010600)</td>\n",
       "      <td>Salinity</td>\n",
       "      <td>2009-01-04</td>\n",
       "      <td>2009</td>\n",
       "    </tr>\n",
       "    <tr>\n",
       "      <th>3</th>\n",
       "      <td>ANDHRA PRADESH</td>\n",
       "      <td>EAST GODAVARI(04)</td>\n",
       "      <td>PRATHIPADU(10)</td>\n",
       "      <td>GAJJANAPUDI(06)</td>\n",
       "      <td>GAJJANAPUDI(029 )</td>\n",
       "      <td>GAJJANAPUDI(0404410029010600)</td>\n",
       "      <td>Salinity</td>\n",
       "      <td>2009-01-04</td>\n",
       "      <td>2009</td>\n",
       "    </tr>\n",
       "    <tr>\n",
       "      <th>4</th>\n",
       "      <td>ANDHRA PRADESH</td>\n",
       "      <td>EAST GODAVARI(04)</td>\n",
       "      <td>PRATHIPADU(10)</td>\n",
       "      <td>CHINTALURU(10)</td>\n",
       "      <td>CHINTALURU(028 )</td>\n",
       "      <td>CHINTALURU(0404410028011000)</td>\n",
       "      <td>Salinity</td>\n",
       "      <td>2009-01-04</td>\n",
       "      <td>2009</td>\n",
       "    </tr>\n",
       "  </tbody>\n",
       "</table>\n",
       "</div>"
      ],
      "text/plain": [
       "       State Name      District Name      Block Name   Panchayat Name  \\\n",
       "0  ANDHRA PRADESH  EAST GODAVARI(04)  PRATHIPADU(10)    GOKAVARAM(04)   \n",
       "1  ANDHRA PRADESH  EAST GODAVARI(04)  PRATHIPADU(10)    GOKAVARAM(04)   \n",
       "2  ANDHRA PRADESH  EAST GODAVARI(04)  PRATHIPADU(10)  GAJJANAPUDI(06)   \n",
       "3  ANDHRA PRADESH  EAST GODAVARI(04)  PRATHIPADU(10)  GAJJANAPUDI(06)   \n",
       "4  ANDHRA PRADESH  EAST GODAVARI(04)  PRATHIPADU(10)   CHINTALURU(10)   \n",
       "\n",
       "           Village Name                   Habitation Name Quality Parameter  \\\n",
       "0        VANTHADA(014 )        VANTHADA(0404410014010400)          Salinity   \n",
       "1  PANDAVULAPALEM(022 )  PANDAVULAPALEM(0404410022010400)          Fluoride   \n",
       "2      G. KOTHURU(023 )      G. KOTHURU(0404410023010600)          Salinity   \n",
       "3     GAJJANAPUDI(029 )     GAJJANAPUDI(0404410029010600)          Salinity   \n",
       "4      CHINTALURU(028 )      CHINTALURU(0404410028011000)          Salinity   \n",
       "\n",
       "        Year  Session  \n",
       "0 2009-01-04     2009  \n",
       "1 2009-01-04     2009  \n",
       "2 2009-01-04     2009  \n",
       "3 2009-01-04     2009  \n",
       "4 2009-01-04     2009  "
      ]
     },
     "execution_count": 18,
     "metadata": {},
     "output_type": "execute_result"
    }
   ],
   "source": [
    "df.head(5)"
   ]
  },
  {
   "cell_type": "code",
   "execution_count": 21,
   "metadata": {
    "collapsed": false
   },
   "outputs": [
    {
     "ename": "ValueError",
     "evalue": "labels ['Year'] not contained in axis",
     "output_type": "error",
     "traceback": [
      "\u001b[0;31m---------------------------------------\u001b[0m",
      "\u001b[0;31mValueError\u001b[0mTraceback (most recent call last)",
      "\u001b[0;32m<ipython-input-21-2d57dacb6ccd>\u001b[0m in \u001b[0;36m<module>\u001b[0;34m()\u001b[0m\n\u001b[0;32m----> 1\u001b[0;31m \u001b[0mdf\u001b[0m\u001b[1;33m.\u001b[0m\u001b[0mdrop\u001b[0m\u001b[1;33m(\u001b[0m\u001b[1;34m'Year'\u001b[0m\u001b[1;33m,\u001b[0m\u001b[0maxis\u001b[0m\u001b[1;33m=\u001b[0m\u001b[1;36m1\u001b[0m\u001b[1;33m,\u001b[0m\u001b[0minplace\u001b[0m\u001b[1;33m=\u001b[0m\u001b[1;32mTrue\u001b[0m\u001b[1;33m)\u001b[0m\u001b[1;33m\u001b[0m\u001b[0m\n\u001b[0m",
      "\u001b[0;32mC:\\ProgramData\\Anaconda3\\lib\\site-packages\\pandas\\core\\generic.py\u001b[0m in \u001b[0;36mdrop\u001b[0;34m(self, labels, axis, level, inplace, errors)\u001b[0m\n\u001b[1;32m   1905\u001b[0m                 \u001b[0mnew_axis\u001b[0m \u001b[1;33m=\u001b[0m \u001b[0maxis\u001b[0m\u001b[1;33m.\u001b[0m\u001b[0mdrop\u001b[0m\u001b[1;33m(\u001b[0m\u001b[0mlabels\u001b[0m\u001b[1;33m,\u001b[0m \u001b[0mlevel\u001b[0m\u001b[1;33m=\u001b[0m\u001b[0mlevel\u001b[0m\u001b[1;33m,\u001b[0m \u001b[0merrors\u001b[0m\u001b[1;33m=\u001b[0m\u001b[0merrors\u001b[0m\u001b[1;33m)\u001b[0m\u001b[1;33m\u001b[0m\u001b[0m\n\u001b[1;32m   1906\u001b[0m             \u001b[1;32melse\u001b[0m\u001b[1;33m:\u001b[0m\u001b[1;33m\u001b[0m\u001b[0m\n\u001b[0;32m-> 1907\u001b[0;31m                 \u001b[0mnew_axis\u001b[0m \u001b[1;33m=\u001b[0m \u001b[0maxis\u001b[0m\u001b[1;33m.\u001b[0m\u001b[0mdrop\u001b[0m\u001b[1;33m(\u001b[0m\u001b[0mlabels\u001b[0m\u001b[1;33m,\u001b[0m \u001b[0merrors\u001b[0m\u001b[1;33m=\u001b[0m\u001b[0merrors\u001b[0m\u001b[1;33m)\u001b[0m\u001b[1;33m\u001b[0m\u001b[0m\n\u001b[0m\u001b[1;32m   1908\u001b[0m             \u001b[0mdropped\u001b[0m \u001b[1;33m=\u001b[0m \u001b[0mself\u001b[0m\u001b[1;33m.\u001b[0m\u001b[0mreindex\u001b[0m\u001b[1;33m(\u001b[0m\u001b[1;33m**\u001b[0m\u001b[1;33m{\u001b[0m\u001b[0maxis_name\u001b[0m\u001b[1;33m:\u001b[0m \u001b[0mnew_axis\u001b[0m\u001b[1;33m}\u001b[0m\u001b[1;33m)\u001b[0m\u001b[1;33m\u001b[0m\u001b[0m\n\u001b[1;32m   1909\u001b[0m             \u001b[1;32mtry\u001b[0m\u001b[1;33m:\u001b[0m\u001b[1;33m\u001b[0m\u001b[0m\n",
      "\u001b[0;32mC:\\ProgramData\\Anaconda3\\lib\\site-packages\\pandas\\indexes\\base.py\u001b[0m in \u001b[0;36mdrop\u001b[0;34m(self, labels, errors)\u001b[0m\n\u001b[1;32m   3260\u001b[0m             \u001b[1;32mif\u001b[0m \u001b[0merrors\u001b[0m \u001b[1;33m!=\u001b[0m \u001b[1;34m'ignore'\u001b[0m\u001b[1;33m:\u001b[0m\u001b[1;33m\u001b[0m\u001b[0m\n\u001b[1;32m   3261\u001b[0m                 raise ValueError('labels %s not contained in axis' %\n\u001b[0;32m-> 3262\u001b[0;31m                                  labels[mask])\n\u001b[0m\u001b[1;32m   3263\u001b[0m             \u001b[0mindexer\u001b[0m \u001b[1;33m=\u001b[0m \u001b[0mindexer\u001b[0m\u001b[1;33m[\u001b[0m\u001b[1;33m~\u001b[0m\u001b[0mmask\u001b[0m\u001b[1;33m]\u001b[0m\u001b[1;33m\u001b[0m\u001b[0m\n\u001b[1;32m   3264\u001b[0m         \u001b[1;32mreturn\u001b[0m \u001b[0mself\u001b[0m\u001b[1;33m.\u001b[0m\u001b[0mdelete\u001b[0m\u001b[1;33m(\u001b[0m\u001b[0mindexer\u001b[0m\u001b[1;33m)\u001b[0m\u001b[1;33m\u001b[0m\u001b[0m\n",
      "\u001b[0;31mValueError\u001b[0m: labels ['Year'] not contained in axis"
     ]
    }
   ],
   "source": [
    "df.drop('Year',axis=1,inplace=True)"
   ]
  },
  {
   "cell_type": "code",
   "execution_count": 23,
   "metadata": {
    "collapsed": false
   },
   "outputs": [
    {
     "data": {
      "text/html": [
       "<div>\n",
       "<table border=\"1\" class=\"dataframe\">\n",
       "  <thead>\n",
       "    <tr style=\"text-align: right;\">\n",
       "      <th></th>\n",
       "      <th>State Name</th>\n",
       "      <th>District Name</th>\n",
       "      <th>Block Name</th>\n",
       "      <th>Panchayat Name</th>\n",
       "      <th>Village Name</th>\n",
       "      <th>Habitation Name</th>\n",
       "      <th>Quality Parameter</th>\n",
       "      <th>Session</th>\n",
       "    </tr>\n",
       "  </thead>\n",
       "  <tbody>\n",
       "    <tr>\n",
       "      <th>0</th>\n",
       "      <td>ANDHRA PRADESH</td>\n",
       "      <td>EAST GODAVARI(04)</td>\n",
       "      <td>PRATHIPADU(10)</td>\n",
       "      <td>GOKAVARAM(04)</td>\n",
       "      <td>VANTHADA(014 )</td>\n",
       "      <td>VANTHADA(0404410014010400)</td>\n",
       "      <td>Salinity</td>\n",
       "      <td>2009</td>\n",
       "    </tr>\n",
       "    <tr>\n",
       "      <th>1</th>\n",
       "      <td>ANDHRA PRADESH</td>\n",
       "      <td>EAST GODAVARI(04)</td>\n",
       "      <td>PRATHIPADU(10)</td>\n",
       "      <td>GOKAVARAM(04)</td>\n",
       "      <td>PANDAVULAPALEM(022 )</td>\n",
       "      <td>PANDAVULAPALEM(0404410022010400)</td>\n",
       "      <td>Fluoride</td>\n",
       "      <td>2009</td>\n",
       "    </tr>\n",
       "    <tr>\n",
       "      <th>2</th>\n",
       "      <td>ANDHRA PRADESH</td>\n",
       "      <td>EAST GODAVARI(04)</td>\n",
       "      <td>PRATHIPADU(10)</td>\n",
       "      <td>GAJJANAPUDI(06)</td>\n",
       "      <td>G. KOTHURU(023 )</td>\n",
       "      <td>G. KOTHURU(0404410023010600)</td>\n",
       "      <td>Salinity</td>\n",
       "      <td>2009</td>\n",
       "    </tr>\n",
       "    <tr>\n",
       "      <th>3</th>\n",
       "      <td>ANDHRA PRADESH</td>\n",
       "      <td>EAST GODAVARI(04)</td>\n",
       "      <td>PRATHIPADU(10)</td>\n",
       "      <td>GAJJANAPUDI(06)</td>\n",
       "      <td>GAJJANAPUDI(029 )</td>\n",
       "      <td>GAJJANAPUDI(0404410029010600)</td>\n",
       "      <td>Salinity</td>\n",
       "      <td>2009</td>\n",
       "    </tr>\n",
       "    <tr>\n",
       "      <th>4</th>\n",
       "      <td>ANDHRA PRADESH</td>\n",
       "      <td>EAST GODAVARI(04)</td>\n",
       "      <td>PRATHIPADU(10)</td>\n",
       "      <td>CHINTALURU(10)</td>\n",
       "      <td>CHINTALURU(028 )</td>\n",
       "      <td>CHINTALURU(0404410028011000)</td>\n",
       "      <td>Salinity</td>\n",
       "      <td>2009</td>\n",
       "    </tr>\n",
       "  </tbody>\n",
       "</table>\n",
       "</div>"
      ],
      "text/plain": [
       "       State Name      District Name      Block Name   Panchayat Name  \\\n",
       "0  ANDHRA PRADESH  EAST GODAVARI(04)  PRATHIPADU(10)    GOKAVARAM(04)   \n",
       "1  ANDHRA PRADESH  EAST GODAVARI(04)  PRATHIPADU(10)    GOKAVARAM(04)   \n",
       "2  ANDHRA PRADESH  EAST GODAVARI(04)  PRATHIPADU(10)  GAJJANAPUDI(06)   \n",
       "3  ANDHRA PRADESH  EAST GODAVARI(04)  PRATHIPADU(10)  GAJJANAPUDI(06)   \n",
       "4  ANDHRA PRADESH  EAST GODAVARI(04)  PRATHIPADU(10)   CHINTALURU(10)   \n",
       "\n",
       "           Village Name                   Habitation Name Quality Parameter  \\\n",
       "0        VANTHADA(014 )        VANTHADA(0404410014010400)          Salinity   \n",
       "1  PANDAVULAPALEM(022 )  PANDAVULAPALEM(0404410022010400)          Fluoride   \n",
       "2      G. KOTHURU(023 )      G. KOTHURU(0404410023010600)          Salinity   \n",
       "3     GAJJANAPUDI(029 )     GAJJANAPUDI(0404410029010600)          Salinity   \n",
       "4      CHINTALURU(028 )      CHINTALURU(0404410028011000)          Salinity   \n",
       "\n",
       "   Session  \n",
       "0     2009  \n",
       "1     2009  \n",
       "2     2009  \n",
       "3     2009  \n",
       "4     2009  "
      ]
     },
     "execution_count": 23,
     "metadata": {},
     "output_type": "execute_result"
    }
   ],
   "source": [
    "df.head(5)"
   ]
  },
  {
   "cell_type": "code",
   "execution_count": 25,
   "metadata": {
    "collapsed": true
   },
   "outputs": [],
   "source": [
    "df.rename(columns={'Session':'Year'},inplace=True)"
   ]
  },
  {
   "cell_type": "code",
   "execution_count": 27,
   "metadata": {
    "collapsed": false
   },
   "outputs": [
    {
     "data": {
      "text/html": [
       "<div>\n",
       "<table border=\"1\" class=\"dataframe\">\n",
       "  <thead>\n",
       "    <tr style=\"text-align: right;\">\n",
       "      <th></th>\n",
       "      <th>State Name</th>\n",
       "      <th>District Name</th>\n",
       "      <th>Block Name</th>\n",
       "      <th>Panchayat Name</th>\n",
       "      <th>Village Name</th>\n",
       "      <th>Habitation Name</th>\n",
       "      <th>Quality Parameter</th>\n",
       "      <th>Year</th>\n",
       "    </tr>\n",
       "  </thead>\n",
       "  <tbody>\n",
       "    <tr>\n",
       "      <th>0</th>\n",
       "      <td>ANDHRA PRADESH</td>\n",
       "      <td>EAST GODAVARI(04)</td>\n",
       "      <td>PRATHIPADU(10)</td>\n",
       "      <td>GOKAVARAM(04)</td>\n",
       "      <td>VANTHADA(014 )</td>\n",
       "      <td>VANTHADA(0404410014010400)</td>\n",
       "      <td>Salinity</td>\n",
       "      <td>2009</td>\n",
       "    </tr>\n",
       "    <tr>\n",
       "      <th>1</th>\n",
       "      <td>ANDHRA PRADESH</td>\n",
       "      <td>EAST GODAVARI(04)</td>\n",
       "      <td>PRATHIPADU(10)</td>\n",
       "      <td>GOKAVARAM(04)</td>\n",
       "      <td>PANDAVULAPALEM(022 )</td>\n",
       "      <td>PANDAVULAPALEM(0404410022010400)</td>\n",
       "      <td>Fluoride</td>\n",
       "      <td>2009</td>\n",
       "    </tr>\n",
       "  </tbody>\n",
       "</table>\n",
       "</div>"
      ],
      "text/plain": [
       "       State Name      District Name      Block Name Panchayat Name  \\\n",
       "0  ANDHRA PRADESH  EAST GODAVARI(04)  PRATHIPADU(10)  GOKAVARAM(04)   \n",
       "1  ANDHRA PRADESH  EAST GODAVARI(04)  PRATHIPADU(10)  GOKAVARAM(04)   \n",
       "\n",
       "           Village Name                   Habitation Name Quality Parameter  \\\n",
       "0        VANTHADA(014 )        VANTHADA(0404410014010400)          Salinity   \n",
       "1  PANDAVULAPALEM(022 )  PANDAVULAPALEM(0404410022010400)          Fluoride   \n",
       "\n",
       "   Year  \n",
       "0  2009  \n",
       "1  2009  "
      ]
     },
     "execution_count": 27,
     "metadata": {},
     "output_type": "execute_result"
    }
   ],
   "source": [
    "df.head(2)"
   ]
  },
  {
   "cell_type": "code",
   "execution_count": 29,
   "metadata": {
    "collapsed": true
   },
   "outputs": [],
   "source": [
    "df.to_csv(\"wq.csv\",index=True)"
   ]
  },
  {
   "cell_type": "code",
   "execution_count": 31,
   "metadata": {
    "collapsed": true
   },
   "outputs": [],
   "source": [
    "col=df.columns"
   ]
  },
  {
   "cell_type": "code",
   "execution_count": 33,
   "metadata": {
    "collapsed": true
   },
   "outputs": [],
   "source": [
    "state=df['State Name'].unique()"
   ]
  },
  {
   "cell_type": "code",
   "execution_count": 36,
   "metadata": {
    "collapsed": false
   },
   "outputs": [
    {
     "name": "stdout",
     "output_type": "stream",
     "text": [
      "Index(['State Name', 'District Name', 'Block Name', 'Panchayat Name',\n",
      "       'Village Name', 'Habitation Name', 'Quality Parameter', 'Year'],\n",
      "      dtype='object')\n",
      "----------------------------------------------------------------------------------------------------\n",
      "['ANDHRA PRADESH' 'ASSAM' 'ARUNACHAL PRADESH' 'BIHAR' 'GUJARAT' 'HARYANA'\n",
      " 'HIMACHAL PRADESH' 'JAMMU AND KASHMIR' 'KARNATAKA' 'KERALA'\n",
      " 'MADHYA PRADESH' 'MAHARASHTRA' 'MEGHALAYA' 'NAGALAND' 'ORISSA'\n",
      " 'PUDUCHERRY' 'PUNJAB' 'RAJASTHAN' 'TAMIL NADU' 'TRIPURA' 'UTTAR PRADESH'\n",
      " 'WEST BENGAL' 'CHATTISGARH' 'JHARKHAND' 'UTTARAKHAND' 'MANIPUR'\n",
      " 'CHHATTISGARH']\n"
     ]
    }
   ],
   "source": [
    "print(col)\n",
    "print(\"-\"*100)\n",
    "print(state)"
   ]
  },
  {
   "cell_type": "code",
   "execution_count": 40,
   "metadata": {
    "collapsed": false
   },
   "outputs": [
    {
     "data": {
      "text/plain": [
       "27"
      ]
     },
     "execution_count": 40,
     "metadata": {},
     "output_type": "execute_result"
    }
   ],
   "source": [
    "len(state)"
   ]
  },
  {
   "cell_type": "code",
   "execution_count": 42,
   "metadata": {
    "collapsed": false
   },
   "outputs": [
    {
     "data": {
      "text/plain": [
       "8"
      ]
     },
     "execution_count": 42,
     "metadata": {},
     "output_type": "execute_result"
    }
   ],
   "source": [
    "len(col)"
   ]
  },
  {
   "cell_type": "code",
   "execution_count": 46,
   "metadata": {
    "collapsed": false
   },
   "outputs": [
    {
     "data": {
      "text/plain": [
       "array(['Salinity', 'Fluoride', 'Iron', 'Arsenic', 'Nitrate'], dtype=object)"
      ]
     },
     "execution_count": 46,
     "metadata": {},
     "output_type": "execute_result"
    }
   ],
   "source": [
    "df['Quality Parameter'].unique()"
   ]
  },
  {
   "cell_type": "code",
   "execution_count": 48,
   "metadata": {
    "collapsed": false
   },
   "outputs": [
    {
     "data": {
      "text/plain": [
       "Iron        302244\n",
       "Salinity    108923\n",
       "Fluoride    101041\n",
       "Arsenic      25705\n",
       "Nitrate      12329\n",
       "Name: Quality Parameter, dtype: int64"
      ]
     },
     "execution_count": 48,
     "metadata": {},
     "output_type": "execute_result"
    }
   ],
   "source": [
    "df['Quality Parameter'].value_counts()"
   ]
  },
  {
   "cell_type": "code",
   "execution_count": 51,
   "metadata": {
    "collapsed": false
   },
   "outputs": [
    {
     "data": {
      "text/plain": [
       "State Name               \n",
       "ANDHRA PRADESH     count         2888\n",
       "                   unique           2\n",
       "                   top       Fluoride\n",
       "                   freq          2193\n",
       "ARUNACHAL PRADESH  count          612\n",
       "                   unique           1\n",
       "                   top           Iron\n",
       "                   freq           612\n",
       "ASSAM              count        79910\n",
       "                   unique           3\n",
       "                   top           Iron\n",
       "                   freq         74098\n",
       "BIHAR              count        92336\n",
       "                   unique           4\n",
       "                   top           Iron\n",
       "                   freq         69970\n",
       "CHATTISGARH        count        25062\n",
       "                   unique           5\n",
       "                   top           Iron\n",
       "                   freq         24439\n",
       "CHHATTISGARH       count         8815\n",
       "                   unique           3\n",
       "                   top           Iron\n",
       "                   freq          8339\n",
       "GUJARAT            count         2092\n",
       "                   unique           4\n",
       "                   top       Fluoride\n",
       "                   freq           804\n",
       "HARYANA            count          262\n",
       "                   unique           2\n",
       "                               ...   \n",
       "PUDUCHERRY         top           Iron\n",
       "                   freq            16\n",
       "PUNJAB             count         1056\n",
       "                   unique           3\n",
       "                   top       Salinity\n",
       "                   freq           894\n",
       "RAJASTHAN          count       131417\n",
       "                   unique           5\n",
       "                   top       Salinity\n",
       "                   freq         87137\n",
       "TAMIL NADU         count         3164\n",
       "                   unique           4\n",
       "                   top           Iron\n",
       "                   freq          2119\n",
       "TRIPURA            count        26235\n",
       "                   unique           1\n",
       "                   top           Iron\n",
       "                   freq         26235\n",
       "UTTAR PRADESH      count         9918\n",
       "                   unique           5\n",
       "                   top           Iron\n",
       "                   freq          3376\n",
       "UTTARAKHAND        count           57\n",
       "                   unique           4\n",
       "                   top           Iron\n",
       "                   freq            35\n",
       "WEST BENGAL        count        30101\n",
       "                   unique           4\n",
       "                   top        Arsenic\n",
       "                   freq         12382\n",
       "Name: Quality Parameter, dtype: object"
      ]
     },
     "execution_count": 51,
     "metadata": {},
     "output_type": "execute_result"
    }
   ],
   "source": [
    "df['Quality Parameter'].groupby(df['State Name']).describe()"
   ]
  },
  {
   "cell_type": "code",
   "execution_count": 53,
   "metadata": {
    "collapsed": true
   },
   "outputs": [],
   "source": [
    "des=df['Quality Parameter'].groupby(df['State Name']).describe()"
   ]
  },
  {
   "cell_type": "code",
   "execution_count": 55,
   "metadata": {
    "collapsed": true
   },
   "outputs": [],
   "source": [
    "des1=pd.DataFrame(eval('des'))"
   ]
  },
  {
   "cell_type": "code",
   "execution_count": 57,
   "metadata": {
    "collapsed": true
   },
   "outputs": [],
   "source": [
    "des1.to_csv('description.csv',index=True)"
   ]
  },
  {
   "cell_type": "code",
   "execution_count": 59,
   "metadata": {
    "collapsed": false
   },
   "outputs": [
    {
     "name": "stdout",
     "output_type": "stream",
     "text": [
      "                         Quality Parameter\n",
      "State Name                                \n",
      "ANDHRA PRADESH    count               2888\n",
      "                  unique                 2\n",
      "                  top             Fluoride\n",
      "                  freq                2193\n",
      "ARUNACHAL PRADESH count                612\n",
      "                  unique                 1\n",
      "                  top                 Iron\n",
      "                  freq                 612\n",
      "ASSAM             count              79910\n",
      "                  unique                 3\n",
      "                  top                 Iron\n",
      "                  freq               74098\n",
      "BIHAR             count              92336\n",
      "                  unique                 4\n",
      "                  top                 Iron\n",
      "                  freq               69970\n",
      "CHATTISGARH       count              25062\n",
      "                  unique                 5\n",
      "                  top                 Iron\n",
      "                  freq               24439\n",
      "CHHATTISGARH      count               8815\n",
      "                  unique                 3\n",
      "                  top                 Iron\n",
      "                  freq                8339\n",
      "GUJARAT           count               2092\n",
      "                  unique                 4\n",
      "                  top             Fluoride\n",
      "                  freq                 804\n",
      "HARYANA           count                262\n",
      "                  unique                 2\n",
      "...                                    ...\n",
      "PUDUCHERRY        top                 Iron\n",
      "                  freq                  16\n",
      "PUNJAB            count               1056\n",
      "                  unique                 3\n",
      "                  top             Salinity\n",
      "                  freq                 894\n",
      "RAJASTHAN         count             131417\n",
      "                  unique                 5\n",
      "                  top             Salinity\n",
      "                  freq               87137\n",
      "TAMIL NADU        count               3164\n",
      "                  unique                 4\n",
      "                  top                 Iron\n",
      "                  freq                2119\n",
      "TRIPURA           count              26235\n",
      "                  unique                 1\n",
      "                  top                 Iron\n",
      "                  freq               26235\n",
      "UTTAR PRADESH     count               9918\n",
      "                  unique                 5\n",
      "                  top                 Iron\n",
      "                  freq                3376\n",
      "UTTARAKHAND       count                 57\n",
      "                  unique                 4\n",
      "                  top                 Iron\n",
      "                  freq                  35\n",
      "WEST BENGAL       count              30101\n",
      "                  unique                 4\n",
      "                  top              Arsenic\n",
      "                  freq               12382\n",
      "\n",
      "[108 rows x 1 columns]\n"
     ]
    }
   ],
   "source": [
    "print(des1)"
   ]
  },
  {
   "cell_type": "code",
   "execution_count": 61,
   "metadata": {
    "collapsed": false
   },
   "outputs": [
    {
     "data": {
      "text/plain": [
       "State Name\n",
       "ANDHRA PRADESH         2888\n",
       "ARUNACHAL PRADESH       612\n",
       "ASSAM                 79910\n",
       "BIHAR                 92336\n",
       "CHATTISGARH           25062\n",
       "CHHATTISGARH           8815\n",
       "GUJARAT                2092\n",
       "HARYANA                 262\n",
       "HIMACHAL PRADESH         88\n",
       "JAMMU AND KASHMIR        67\n",
       "JHARKHAND              3913\n",
       "KARNATAKA             30824\n",
       "KERALA                 4800\n",
       "MADHYA PRADESH        14449\n",
       "MAHARASHTRA           12480\n",
       "MANIPUR                  14\n",
       "MEGHALAYA               427\n",
       "NAGALAND                618\n",
       "ORISSA                68620\n",
       "PUDUCHERRY               17\n",
       "PUNJAB                 1056\n",
       "RAJASTHAN            131417\n",
       "TAMIL NADU             3164\n",
       "TRIPURA               26235\n",
       "UTTAR PRADESH          9918\n",
       "UTTARAKHAND              57\n",
       "WEST BENGAL           30101\n",
       "dtype: int64"
      ]
     },
     "execution_count": 61,
     "metadata": {},
     "output_type": "execute_result"
    }
   ],
   "source": [
    "df.groupby('State Name').size()"
   ]
  },
  {
   "cell_type": "code",
   "execution_count": 64,
   "metadata": {
    "collapsed": true
   },
   "outputs": [],
   "source": [
    "data=df[['State Name','Quality Parameter']]"
   ]
  },
  {
   "cell_type": "code",
   "execution_count": 66,
   "metadata": {
    "collapsed": false
   },
   "outputs": [
    {
     "name": "stdout",
     "output_type": "stream",
     "text": [
      "            State Name Quality Parameter\n",
      "0       ANDHRA PRADESH          Salinity\n",
      "1       ANDHRA PRADESH          Fluoride\n",
      "2       ANDHRA PRADESH          Salinity\n",
      "3       ANDHRA PRADESH          Salinity\n",
      "4       ANDHRA PRADESH          Salinity\n",
      "5       ANDHRA PRADESH          Fluoride\n",
      "6       ANDHRA PRADESH          Salinity\n",
      "7       ANDHRA PRADESH          Fluoride\n",
      "8       ANDHRA PRADESH          Salinity\n",
      "9       ANDHRA PRADESH          Salinity\n",
      "10      ANDHRA PRADESH          Salinity\n",
      "11      ANDHRA PRADESH          Salinity\n",
      "12      ANDHRA PRADESH          Salinity\n",
      "13      ANDHRA PRADESH          Salinity\n",
      "14      ANDHRA PRADESH          Salinity\n",
      "15      ANDHRA PRADESH          Salinity\n",
      "16      ANDHRA PRADESH          Salinity\n",
      "17      ANDHRA PRADESH          Salinity\n",
      "18      ANDHRA PRADESH          Salinity\n",
      "19      ANDHRA PRADESH          Salinity\n",
      "20      ANDHRA PRADESH          Salinity\n",
      "21      ANDHRA PRADESH          Salinity\n",
      "22      ANDHRA PRADESH          Salinity\n",
      "23      ANDHRA PRADESH          Salinity\n",
      "24      ANDHRA PRADESH          Salinity\n",
      "25      ANDHRA PRADESH          Salinity\n",
      "26      ANDHRA PRADESH          Salinity\n",
      "27      ANDHRA PRADESH          Salinity\n",
      "28      ANDHRA PRADESH          Salinity\n",
      "29      ANDHRA PRADESH          Salinity\n",
      "...                ...               ...\n",
      "550212           ASSAM              Iron\n",
      "550213           ASSAM              Iron\n",
      "550214           ASSAM              Iron\n",
      "550215           ASSAM              Iron\n",
      "550216           ASSAM              Iron\n",
      "550217           ASSAM              Iron\n",
      "550218           ASSAM              Iron\n",
      "550219           ASSAM              Iron\n",
      "550220           ASSAM              Iron\n",
      "550221           ASSAM              Iron\n",
      "550222           ASSAM              Iron\n",
      "550223           ASSAM              Iron\n",
      "550224           ASSAM              Iron\n",
      "550225           ASSAM              Iron\n",
      "550226           ASSAM              Iron\n",
      "550227           ASSAM              Iron\n",
      "550228           ASSAM              Iron\n",
      "550229           ASSAM              Iron\n",
      "550230           ASSAM              Iron\n",
      "550231           ASSAM              Iron\n",
      "550232           ASSAM              Iron\n",
      "550233           ASSAM              Iron\n",
      "550234           ASSAM              Iron\n",
      "550235           ASSAM              Iron\n",
      "550236           ASSAM              Iron\n",
      "550237           ASSAM              Iron\n",
      "550238           ASSAM              Iron\n",
      "550239           ASSAM              Iron\n",
      "550240           ASSAM              Iron\n",
      "550241           ASSAM              Iron\n",
      "\n",
      "[550242 rows x 2 columns]\n"
     ]
    }
   ],
   "source": [
    "print(data)"
   ]
  },
  {
   "cell_type": "code",
   "execution_count": 68,
   "metadata": {
    "collapsed": true
   },
   "outputs": [],
   "source": [
    "number=LabelEncoder()"
   ]
  },
  {
   "cell_type": "code",
   "execution_count": 72,
   "metadata": {
    "collapsed": false
   },
   "outputs": [
    {
     "name": "stderr",
     "output_type": "stream",
     "text": [
      "C:\\ProgramData\\Anaconda3\\lib\\site-packages\\ipykernel\\__main__.py:1: SettingWithCopyWarning: \n",
      "A value is trying to be set on a copy of a slice from a DataFrame.\n",
      "Try using .loc[row_indexer,col_indexer] = value instead\n",
      "\n",
      "See the caveats in the documentation: http://pandas.pydata.org/pandas-docs/stable/indexing.html#indexing-view-versus-copy\n",
      "  if __name__ == '__main__':\n"
     ]
    }
   ],
   "source": [
    "data['Quality']=number.fit_transform(data['Quality Parameter'].astype('str'))"
   ]
  },
  {
   "cell_type": "code",
   "execution_count": 75,
   "metadata": {
    "collapsed": false
   },
   "outputs": [
    {
     "data": {
      "text/html": [
       "<div>\n",
       "<table border=\"1\" class=\"dataframe\">\n",
       "  <thead>\n",
       "    <tr style=\"text-align: right;\">\n",
       "      <th></th>\n",
       "      <th>State Name</th>\n",
       "      <th>Quality Parameter</th>\n",
       "      <th>Quality</th>\n",
       "    </tr>\n",
       "  </thead>\n",
       "  <tbody>\n",
       "    <tr>\n",
       "      <th>0</th>\n",
       "      <td>ANDHRA PRADESH</td>\n",
       "      <td>Salinity</td>\n",
       "      <td>4</td>\n",
       "    </tr>\n",
       "    <tr>\n",
       "      <th>1</th>\n",
       "      <td>ANDHRA PRADESH</td>\n",
       "      <td>Fluoride</td>\n",
       "      <td>1</td>\n",
       "    </tr>\n",
       "    <tr>\n",
       "      <th>2</th>\n",
       "      <td>ANDHRA PRADESH</td>\n",
       "      <td>Salinity</td>\n",
       "      <td>4</td>\n",
       "    </tr>\n",
       "    <tr>\n",
       "      <th>3</th>\n",
       "      <td>ANDHRA PRADESH</td>\n",
       "      <td>Salinity</td>\n",
       "      <td>4</td>\n",
       "    </tr>\n",
       "    <tr>\n",
       "      <th>4</th>\n",
       "      <td>ANDHRA PRADESH</td>\n",
       "      <td>Salinity</td>\n",
       "      <td>4</td>\n",
       "    </tr>\n",
       "  </tbody>\n",
       "</table>\n",
       "</div>"
      ],
      "text/plain": [
       "       State Name Quality Parameter  Quality\n",
       "0  ANDHRA PRADESH          Salinity        4\n",
       "1  ANDHRA PRADESH          Fluoride        1\n",
       "2  ANDHRA PRADESH          Salinity        4\n",
       "3  ANDHRA PRADESH          Salinity        4\n",
       "4  ANDHRA PRADESH          Salinity        4"
      ]
     },
     "execution_count": 75,
     "metadata": {},
     "output_type": "execute_result"
    }
   ],
   "source": [
    "data.head(5)"
   ]
  },
  {
   "cell_type": "code",
   "execution_count": 77,
   "metadata": {
    "collapsed": true
   },
   "outputs": [],
   "source": [
    "set1=data.groupby(['State Name','Quality Parameter','Quality']).count()"
   ]
  },
  {
   "cell_type": "code",
   "execution_count": 79,
   "metadata": {
    "collapsed": false
   },
   "outputs": [
    {
     "data": {
      "text/html": [
       "<div>\n",
       "<table border=\"1\" class=\"dataframe\">\n",
       "  <thead>\n",
       "    <tr style=\"text-align: right;\">\n",
       "      <th></th>\n",
       "      <th></th>\n",
       "      <th></th>\n",
       "    </tr>\n",
       "    <tr>\n",
       "      <th>State Name</th>\n",
       "      <th>Quality Parameter</th>\n",
       "      <th>Quality</th>\n",
       "    </tr>\n",
       "  </thead>\n",
       "  <tbody>\n",
       "    <tr>\n",
       "      <th rowspan=\"2\" valign=\"top\">ANDHRA PRADESH</th>\n",
       "      <th>Fluoride</th>\n",
       "      <th>1</th>\n",
       "    </tr>\n",
       "    <tr>\n",
       "      <th>Salinity</th>\n",
       "      <th>4</th>\n",
       "    </tr>\n",
       "    <tr>\n",
       "      <th>ARUNACHAL PRADESH</th>\n",
       "      <th>Iron</th>\n",
       "      <th>2</th>\n",
       "    </tr>\n",
       "    <tr>\n",
       "      <th rowspan=\"3\" valign=\"top\">ASSAM</th>\n",
       "      <th>Arsenic</th>\n",
       "      <th>0</th>\n",
       "    </tr>\n",
       "    <tr>\n",
       "      <th>Fluoride</th>\n",
       "      <th>1</th>\n",
       "    </tr>\n",
       "    <tr>\n",
       "      <th>Iron</th>\n",
       "      <th>2</th>\n",
       "    </tr>\n",
       "    <tr>\n",
       "      <th rowspan=\"4\" valign=\"top\">BIHAR</th>\n",
       "      <th>Arsenic</th>\n",
       "      <th>0</th>\n",
       "    </tr>\n",
       "    <tr>\n",
       "      <th>Fluoride</th>\n",
       "      <th>1</th>\n",
       "    </tr>\n",
       "    <tr>\n",
       "      <th>Iron</th>\n",
       "      <th>2</th>\n",
       "    </tr>\n",
       "    <tr>\n",
       "      <th>Nitrate</th>\n",
       "      <th>3</th>\n",
       "    </tr>\n",
       "    <tr>\n",
       "      <th rowspan=\"5\" valign=\"top\">CHATTISGARH</th>\n",
       "      <th>Arsenic</th>\n",
       "      <th>0</th>\n",
       "    </tr>\n",
       "    <tr>\n",
       "      <th>Fluoride</th>\n",
       "      <th>1</th>\n",
       "    </tr>\n",
       "    <tr>\n",
       "      <th>Iron</th>\n",
       "      <th>2</th>\n",
       "    </tr>\n",
       "    <tr>\n",
       "      <th>Nitrate</th>\n",
       "      <th>3</th>\n",
       "    </tr>\n",
       "    <tr>\n",
       "      <th>Salinity</th>\n",
       "      <th>4</th>\n",
       "    </tr>\n",
       "    <tr>\n",
       "      <th rowspan=\"3\" valign=\"top\">CHHATTISGARH</th>\n",
       "      <th>Fluoride</th>\n",
       "      <th>1</th>\n",
       "    </tr>\n",
       "    <tr>\n",
       "      <th>Iron</th>\n",
       "      <th>2</th>\n",
       "    </tr>\n",
       "    <tr>\n",
       "      <th>Salinity</th>\n",
       "      <th>4</th>\n",
       "    </tr>\n",
       "    <tr>\n",
       "      <th rowspan=\"4\" valign=\"top\">GUJARAT</th>\n",
       "      <th>Fluoride</th>\n",
       "      <th>1</th>\n",
       "    </tr>\n",
       "    <tr>\n",
       "      <th>Iron</th>\n",
       "      <th>2</th>\n",
       "    </tr>\n",
       "    <tr>\n",
       "      <th>Nitrate</th>\n",
       "      <th>3</th>\n",
       "    </tr>\n",
       "    <tr>\n",
       "      <th>Salinity</th>\n",
       "      <th>4</th>\n",
       "    </tr>\n",
       "    <tr>\n",
       "      <th rowspan=\"2\" valign=\"top\">HARYANA</th>\n",
       "      <th>Fluoride</th>\n",
       "      <th>1</th>\n",
       "    </tr>\n",
       "    <tr>\n",
       "      <th>Salinity</th>\n",
       "      <th>4</th>\n",
       "    </tr>\n",
       "    <tr>\n",
       "      <th rowspan=\"3\" valign=\"top\">HIMACHAL PRADESH</th>\n",
       "      <th>Arsenic</th>\n",
       "      <th>0</th>\n",
       "    </tr>\n",
       "    <tr>\n",
       "      <th>Iron</th>\n",
       "      <th>2</th>\n",
       "    </tr>\n",
       "    <tr>\n",
       "      <th>Salinity</th>\n",
       "      <th>4</th>\n",
       "    </tr>\n",
       "    <tr>\n",
       "      <th rowspan=\"3\" valign=\"top\">JAMMU AND KASHMIR</th>\n",
       "      <th>Fluoride</th>\n",
       "      <th>1</th>\n",
       "    </tr>\n",
       "    <tr>\n",
       "      <th>Iron</th>\n",
       "      <th>2</th>\n",
       "    </tr>\n",
       "    <tr>\n",
       "      <th>Salinity</th>\n",
       "      <th>4</th>\n",
       "    </tr>\n",
       "    <tr>\n",
       "      <th>...</th>\n",
       "      <th>...</th>\n",
       "      <th>...</th>\n",
       "    </tr>\n",
       "    <tr>\n",
       "      <th rowspan=\"2\" valign=\"top\">ORISSA</th>\n",
       "      <th>Nitrate</th>\n",
       "      <th>3</th>\n",
       "    </tr>\n",
       "    <tr>\n",
       "      <th>Salinity</th>\n",
       "      <th>4</th>\n",
       "    </tr>\n",
       "    <tr>\n",
       "      <th rowspan=\"2\" valign=\"top\">PUDUCHERRY</th>\n",
       "      <th>Iron</th>\n",
       "      <th>2</th>\n",
       "    </tr>\n",
       "    <tr>\n",
       "      <th>Salinity</th>\n",
       "      <th>4</th>\n",
       "    </tr>\n",
       "    <tr>\n",
       "      <th rowspan=\"3\" valign=\"top\">PUNJAB</th>\n",
       "      <th>Fluoride</th>\n",
       "      <th>1</th>\n",
       "    </tr>\n",
       "    <tr>\n",
       "      <th>Iron</th>\n",
       "      <th>2</th>\n",
       "    </tr>\n",
       "    <tr>\n",
       "      <th>Salinity</th>\n",
       "      <th>4</th>\n",
       "    </tr>\n",
       "    <tr>\n",
       "      <th rowspan=\"5\" valign=\"top\">RAJASTHAN</th>\n",
       "      <th>Arsenic</th>\n",
       "      <th>0</th>\n",
       "    </tr>\n",
       "    <tr>\n",
       "      <th>Fluoride</th>\n",
       "      <th>1</th>\n",
       "    </tr>\n",
       "    <tr>\n",
       "      <th>Iron</th>\n",
       "      <th>2</th>\n",
       "    </tr>\n",
       "    <tr>\n",
       "      <th>Nitrate</th>\n",
       "      <th>3</th>\n",
       "    </tr>\n",
       "    <tr>\n",
       "      <th>Salinity</th>\n",
       "      <th>4</th>\n",
       "    </tr>\n",
       "    <tr>\n",
       "      <th rowspan=\"4\" valign=\"top\">TAMIL NADU</th>\n",
       "      <th>Fluoride</th>\n",
       "      <th>1</th>\n",
       "    </tr>\n",
       "    <tr>\n",
       "      <th>Iron</th>\n",
       "      <th>2</th>\n",
       "    </tr>\n",
       "    <tr>\n",
       "      <th>Nitrate</th>\n",
       "      <th>3</th>\n",
       "    </tr>\n",
       "    <tr>\n",
       "      <th>Salinity</th>\n",
       "      <th>4</th>\n",
       "    </tr>\n",
       "    <tr>\n",
       "      <th>TRIPURA</th>\n",
       "      <th>Iron</th>\n",
       "      <th>2</th>\n",
       "    </tr>\n",
       "    <tr>\n",
       "      <th rowspan=\"5\" valign=\"top\">UTTAR PRADESH</th>\n",
       "      <th>Arsenic</th>\n",
       "      <th>0</th>\n",
       "    </tr>\n",
       "    <tr>\n",
       "      <th>Fluoride</th>\n",
       "      <th>1</th>\n",
       "    </tr>\n",
       "    <tr>\n",
       "      <th>Iron</th>\n",
       "      <th>2</th>\n",
       "    </tr>\n",
       "    <tr>\n",
       "      <th>Nitrate</th>\n",
       "      <th>3</th>\n",
       "    </tr>\n",
       "    <tr>\n",
       "      <th>Salinity</th>\n",
       "      <th>4</th>\n",
       "    </tr>\n",
       "    <tr>\n",
       "      <th rowspan=\"4\" valign=\"top\">UTTARAKHAND</th>\n",
       "      <th>Arsenic</th>\n",
       "      <th>0</th>\n",
       "    </tr>\n",
       "    <tr>\n",
       "      <th>Fluoride</th>\n",
       "      <th>1</th>\n",
       "    </tr>\n",
       "    <tr>\n",
       "      <th>Iron</th>\n",
       "      <th>2</th>\n",
       "    </tr>\n",
       "    <tr>\n",
       "      <th>Nitrate</th>\n",
       "      <th>3</th>\n",
       "    </tr>\n",
       "    <tr>\n",
       "      <th rowspan=\"4\" valign=\"top\">WEST BENGAL</th>\n",
       "      <th>Arsenic</th>\n",
       "      <th>0</th>\n",
       "    </tr>\n",
       "    <tr>\n",
       "      <th>Fluoride</th>\n",
       "      <th>1</th>\n",
       "    </tr>\n",
       "    <tr>\n",
       "      <th>Iron</th>\n",
       "      <th>2</th>\n",
       "    </tr>\n",
       "    <tr>\n",
       "      <th>Salinity</th>\n",
       "      <th>4</th>\n",
       "    </tr>\n",
       "  </tbody>\n",
       "</table>\n",
       "<p>90 rows × 0 columns</p>\n",
       "</div>"
      ],
      "text/plain": [
       "Empty DataFrame\n",
       "Columns: []\n",
       "Index: [(ANDHRA PRADESH, Fluoride, 1), (ANDHRA PRADESH, Salinity, 4), (ARUNACHAL PRADESH, Iron, 2), (ASSAM, Arsenic, 0), (ASSAM, Fluoride, 1), (ASSAM, Iron, 2), (BIHAR, Arsenic, 0), (BIHAR, Fluoride, 1), (BIHAR, Iron, 2), (BIHAR, Nitrate, 3), (CHATTISGARH, Arsenic, 0), (CHATTISGARH, Fluoride, 1), (CHATTISGARH, Iron, 2), (CHATTISGARH, Nitrate, 3), (CHATTISGARH, Salinity, 4), (CHHATTISGARH, Fluoride, 1), (CHHATTISGARH, Iron, 2), (CHHATTISGARH, Salinity, 4), (GUJARAT, Fluoride, 1), (GUJARAT, Iron, 2), (GUJARAT, Nitrate, 3), (GUJARAT, Salinity, 4), (HARYANA, Fluoride, 1), (HARYANA, Salinity, 4), (HIMACHAL PRADESH, Arsenic, 0), (HIMACHAL PRADESH, Iron, 2), (HIMACHAL PRADESH, Salinity, 4), (JAMMU AND KASHMIR, Fluoride, 1), (JAMMU AND KASHMIR, Iron, 2), (JAMMU AND KASHMIR, Salinity, 4), (JHARKHAND, Arsenic, 0), (JHARKHAND, Fluoride, 1), (JHARKHAND, Iron, 2), (JHARKHAND, Nitrate, 3), (JHARKHAND, Salinity, 4), (KARNATAKA, Arsenic, 0), (KARNATAKA, Fluoride, 1), (KARNATAKA, Iron, 2), (KARNATAKA, Nitrate, 3), (KARNATAKA, Salinity, 4), (KERALA, Fluoride, 1), (KERALA, Iron, 2), (KERALA, Nitrate, 3), (KERALA, Salinity, 4), (MADHYA PRADESH, Fluoride, 1), (MADHYA PRADESH, Iron, 2), (MADHYA PRADESH, Nitrate, 3), (MADHYA PRADESH, Salinity, 4), (MAHARASHTRA, Arsenic, 0), (MAHARASHTRA, Fluoride, 1), (MAHARASHTRA, Iron, 2), (MAHARASHTRA, Nitrate, 3), (MAHARASHTRA, Salinity, 4), (MANIPUR, Iron, 2), (MEGHALAYA, Fluoride, 1), (MEGHALAYA, Iron, 2), (NAGALAND, Iron, 2), (ORISSA, Arsenic, 0), (ORISSA, Fluoride, 1), (ORISSA, Iron, 2), (ORISSA, Nitrate, 3), (ORISSA, Salinity, 4), (PUDUCHERRY, Iron, 2), (PUDUCHERRY, Salinity, 4), (PUNJAB, Fluoride, 1), (PUNJAB, Iron, 2), (PUNJAB, Salinity, 4), (RAJASTHAN, Arsenic, 0), (RAJASTHAN, Fluoride, 1), (RAJASTHAN, Iron, 2), (RAJASTHAN, Nitrate, 3), (RAJASTHAN, Salinity, 4), (TAMIL NADU, Fluoride, 1), (TAMIL NADU, Iron, 2), (TAMIL NADU, Nitrate, 3), (TAMIL NADU, Salinity, 4), (TRIPURA, Iron, 2), (UTTAR PRADESH, Arsenic, 0), (UTTAR PRADESH, Fluoride, 1), (UTTAR PRADESH, Iron, 2), (UTTAR PRADESH, Nitrate, 3), (UTTAR PRADESH, Salinity, 4), (UTTARAKHAND, Arsenic, 0), (UTTARAKHAND, Fluoride, 1), (UTTARAKHAND, Iron, 2), (UTTARAKHAND, Nitrate, 3), (WEST BENGAL, Arsenic, 0), (WEST BENGAL, Fluoride, 1), (WEST BENGAL, Iron, 2), (WEST BENGAL, Salinity, 4)]\n",
       "\n",
       "[90 rows x 0 columns]"
      ]
     },
     "execution_count": 79,
     "metadata": {},
     "output_type": "execute_result"
    }
   ],
   "source": [
    "set1"
   ]
  },
  {
   "cell_type": "code",
   "execution_count": 81,
   "metadata": {
    "collapsed": true
   },
   "outputs": [],
   "source": [
    "set1.to_html('set1.html')"
   ]
  },
  {
   "cell_type": "code",
   "execution_count": 83,
   "metadata": {
    "collapsed": true
   },
   "outputs": [],
   "source": [
    "state_count = pd.DataFrame({'count' : data.groupby( [ \"State Name\", \"Quality\",\"Quality Parameter\"] ).size()}).reset_index()"
   ]
  },
  {
   "cell_type": "code",
   "execution_count": 85,
   "metadata": {
    "collapsed": true
   },
   "outputs": [],
   "source": [
    "state_count.to_html('set1.html')"
   ]
  },
  {
   "cell_type": "code",
   "execution_count": 87,
   "metadata": {
    "collapsed": false
   },
   "outputs": [
    {
     "name": "stdout",
     "output_type": "stream",
     "text": [
      "====================================================================================================\n",
      "['ANDHRA PRADESH' 'ASSAM' 'ARUNACHAL PRADESH' 'BIHAR' 'GUJARAT' 'HARYANA'\n",
      " 'HIMACHAL PRADESH' 'JAMMU AND KASHMIR' 'KARNATAKA' 'KERALA'\n",
      " 'MADHYA PRADESH' 'MAHARASHTRA' 'MEGHALAYA' 'NAGALAND' 'ORISSA'\n",
      " 'PUDUCHERRY' 'PUNJAB' 'RAJASTHAN' 'TAMIL NADU' 'TRIPURA' 'UTTAR PRADESH'\n",
      " 'WEST BENGAL' 'CHATTISGARH' 'JHARKHAND' 'UTTARAKHAND' 'MANIPUR'\n",
      " 'CHHATTISGARH']\n",
      "====================================================================================================\n"
     ]
    }
   ],
   "source": [
    "print(\"=\"*100)\n",
    "print(state)\n",
    "print(\"=\"*100)"
   ]
  },
  {
   "cell_type": "code",
   "execution_count": 89,
   "metadata": {
    "collapsed": true
   },
   "outputs": [],
   "source": [
    "#Took 5 random states for analysis"
   ]
  },
  {
   "cell_type": "code",
   "execution_count": 91,
   "metadata": {
    "collapsed": true
   },
   "outputs": [],
   "source": [
    "ANDHRA_PRADESH = state_count[state_count[\"State Name\"] == \"ANDHRA PRADESH\"]\n",
    "ASSAM = state_count[state_count[\"State Name\"] == \"ASSAM\"]\n",
    "ARUNACHAL_PRADESH= state_count[state_count[\"State Name\"] == \"ARUNACHAL PRADESH\"]\n",
    "BIHAR= state_count[state_count[\"State Name\"] == \"BIHAR\"]\n",
    "GUJRAT= state_count[state_count[\"State Name\"] == \"GUJRAT\"]"
   ]
  },
  {
   "cell_type": "code",
   "execution_count": 93,
   "metadata": {
    "collapsed": false
   },
   "outputs": [
    {
     "data": {
      "text/html": [
       "<div>\n",
       "<table border=\"1\" class=\"dataframe\">\n",
       "  <thead>\n",
       "    <tr style=\"text-align: right;\">\n",
       "      <th></th>\n",
       "      <th>State Name</th>\n",
       "      <th>Quality</th>\n",
       "      <th>Quality Parameter</th>\n",
       "      <th>count</th>\n",
       "    </tr>\n",
       "  </thead>\n",
       "  <tbody>\n",
       "    <tr>\n",
       "      <th>0</th>\n",
       "      <td>ANDHRA PRADESH</td>\n",
       "      <td>1</td>\n",
       "      <td>Fluoride</td>\n",
       "      <td>2193</td>\n",
       "    </tr>\n",
       "    <tr>\n",
       "      <th>1</th>\n",
       "      <td>ANDHRA PRADESH</td>\n",
       "      <td>4</td>\n",
       "      <td>Salinity</td>\n",
       "      <td>695</td>\n",
       "    </tr>\n",
       "  </tbody>\n",
       "</table>\n",
       "</div>"
      ],
      "text/plain": [
       "       State Name  Quality Quality Parameter  count\n",
       "0  ANDHRA PRADESH        1          Fluoride   2193\n",
       "1  ANDHRA PRADESH        4          Salinity    695"
      ]
     },
     "execution_count": 93,
     "metadata": {},
     "output_type": "execute_result"
    }
   ],
   "source": [
    "ANDHRA_PRADESH"
   ]
  },
  {
   "cell_type": "code",
   "execution_count": 115,
   "metadata": {
    "collapsed": false
   },
   "outputs": [
    {
     "data": {
      "image/png": "[encoded data removed]",
      "text/plain": [
       "<matplotlib.figure.Figure at 0x1ee8ac41470>"
      ]
     },
     "metadata": {},
     "output_type": "display_data"
    }
   ],
   "source": [
    "plt.figure(figsize=(8,6))\n",
    "ax=sns.barplot(x='count',y='Quality Parameter',data=ANDHRA_PRADESH)\n",
    "ax.set(xlabel='COUNT')\n",
    "sns.despine(left=True,bottom=True)\n",
    "plt.title(\"WATER QUALITY IN ANDHRA PRADESH\")\n",
    "fig=ax.get_figure()\n",
    "fig.savefig(\"andhrapradesh.png\")"
   ]
  },
  {
   "cell_type": "code",
   "execution_count": 97,
   "metadata": {
    "collapsed": false
   },
   "outputs": [
    {
     "data": {
      "text/html": [
       "<div>\n",
       "<table border=\"1\" class=\"dataframe\">\n",
       "  <thead>\n",
       "    <tr style=\"text-align: right;\">\n",
       "      <th></th>\n",
       "      <th>State Name</th>\n",
       "      <th>Quality</th>\n",
       "      <th>Quality Parameter</th>\n",
       "      <th>count</th>\n",
       "    </tr>\n",
       "  </thead>\n",
       "  <tbody>\n",
       "    <tr>\n",
       "      <th>3</th>\n",
       "      <td>ASSAM</td>\n",
       "      <td>0</td>\n",
       "      <td>Arsenic</td>\n",
       "      <td>4775</td>\n",
       "    </tr>\n",
       "    <tr>\n",
       "      <th>4</th>\n",
       "      <td>ASSAM</td>\n",
       "      <td>1</td>\n",
       "      <td>Fluoride</td>\n",
       "      <td>1037</td>\n",
       "    </tr>\n",
       "    <tr>\n",
       "      <th>5</th>\n",
       "      <td>ASSAM</td>\n",
       "      <td>2</td>\n",
       "      <td>Iron</td>\n",
       "      <td>74098</td>\n",
       "    </tr>\n",
       "  </tbody>\n",
       "</table>\n",
       "</div>"
      ],
      "text/plain": [
       "  State Name  Quality Quality Parameter  count\n",
       "3      ASSAM        0           Arsenic   4775\n",
       "4      ASSAM        1          Fluoride   1037\n",
       "5      ASSAM        2              Iron  74098"
      ]
     },
     "execution_count": 97,
     "metadata": {},
     "output_type": "execute_result"
    }
   ],
   "source": [
    "ASSAM"
   ]
  },
  {
   "cell_type": "code",
   "execution_count": 114,
   "metadata": {
    "collapsed": false
   },
   "outputs": [
    {
     "data": {
      "image/png": "[encoded data removed]",
      "text/plain": [
       "<matplotlib.figure.Figure at 0x1ee8ad32c18>"
      ]
     },
     "metadata": {},
     "output_type": "display_data"
    }
   ],
   "source": [
    "plt.figure(figsize=(8,6))\n",
    "ax=sns.barplot(x='count',y='Quality Parameter',data=ASSAM)\n",
    "ax.set(xlabel='COUNT')\n",
    "sns.despine(left=True,bottom=True)\n",
    "plt.title(\"WATER QUALITY IN ASSAM \")\n",
    "fig=ax.get_figure()\n",
    "fig.savefig(\"assam.png\")"
   ]
  },
  {
   "cell_type": "code",
   "execution_count": 102,
   "metadata": {
    "collapsed": false
   },
   "outputs": [
    {
     "data": {
      "text/html": [
       "<div>\n",
       "<table border=\"1\" class=\"dataframe\">\n",
       "  <thead>\n",
       "    <tr style=\"text-align: right;\">\n",
       "      <th></th>\n",
       "      <th>State Name</th>\n",
       "      <th>Quality</th>\n",
       "      <th>Quality Parameter</th>\n",
       "      <th>count</th>\n",
       "    </tr>\n",
       "  </thead>\n",
       "  <tbody>\n",
       "    <tr>\n",
       "      <th>2</th>\n",
       "      <td>ARUNACHAL PRADESH</td>\n",
       "      <td>2</td>\n",
       "      <td>Iron</td>\n",
       "      <td>612</td>\n",
       "    </tr>\n",
       "  </tbody>\n",
       "</table>\n",
       "</div>"
      ],
      "text/plain": [
       "          State Name  Quality Quality Parameter  count\n",
       "2  ARUNACHAL PRADESH        2              Iron    612"
      ]
     },
     "execution_count": 102,
     "metadata": {},
     "output_type": "execute_result"
    }
   ],
   "source": [
    "ARUNACHAL_PRADESH"
   ]
  },
  {
   "cell_type": "code",
   "execution_count": 116,
   "metadata": {
    "collapsed": false
   },
   "outputs": [
    {
     "data": {
      "image/png": "[encoded data removed]",
      "text/plain": [
       "<matplotlib.figure.Figure at 0x1ee81bc69e8>"
      ]
     },
     "metadata": {},
     "output_type": "display_data"
    }
   ],
   "source": [
    "plt.figure(figsize=(8,6))\n",
    "ax=sns.barplot(x='count',y='Quality Parameter',data=ARUNACHAL_PRADESH)\n",
    "ax.set(xlabel='COUNT')\n",
    "sns.despine(left=True,bottom=True)\n",
    "plt.title(\"WATER QUALITY IN ARUNACHAL PRADESH \")\n",
    "fig=ax.get_figure()\n",
    "fig.savefig(\"ARUNACHAL PRADESH.png\")"
   ]
  },
  {
   "cell_type": "code",
   "execution_count": 106,
   "metadata": {
    "collapsed": false
   },
   "outputs": [
    {
     "data": {
      "text/html": [
       "<div>\n",
       "<table border=\"1\" class=\"dataframe\">\n",
       "  <thead>\n",
       "    <tr style=\"text-align: right;\">\n",
       "      <th></th>\n",
       "      <th>State Name</th>\n",
       "      <th>Quality</th>\n",
       "      <th>Quality Parameter</th>\n",
       "      <th>count</th>\n",
       "    </tr>\n",
       "  </thead>\n",
       "  <tbody>\n",
       "    <tr>\n",
       "      <th>6</th>\n",
       "      <td>BIHAR</td>\n",
       "      <td>0</td>\n",
       "      <td>Arsenic</td>\n",
       "      <td>6215</td>\n",
       "    </tr>\n",
       "    <tr>\n",
       "      <th>7</th>\n",
       "      <td>BIHAR</td>\n",
       "      <td>1</td>\n",
       "      <td>Fluoride</td>\n",
       "      <td>16150</td>\n",
       "    </tr>\n",
       "    <tr>\n",
       "      <th>8</th>\n",
       "      <td>BIHAR</td>\n",
       "      <td>2</td>\n",
       "      <td>Iron</td>\n",
       "      <td>69970</td>\n",
       "    </tr>\n",
       "    <tr>\n",
       "      <th>9</th>\n",
       "      <td>BIHAR</td>\n",
       "      <td>3</td>\n",
       "      <td>Nitrate</td>\n",
       "      <td>1</td>\n",
       "    </tr>\n",
       "  </tbody>\n",
       "</table>\n",
       "</div>"
      ],
      "text/plain": [
       "  State Name  Quality Quality Parameter  count\n",
       "6      BIHAR        0           Arsenic   6215\n",
       "7      BIHAR        1          Fluoride  16150\n",
       "8      BIHAR        2              Iron  69970\n",
       "9      BIHAR        3           Nitrate      1"
      ]
     },
     "execution_count": 106,
     "metadata": {},
     "output_type": "execute_result"
    }
   ],
   "source": [
    "BIHAR"
   ]
  },
  {
   "cell_type": "code",
   "execution_count": 117,
   "metadata": {
    "collapsed": false
   },
   "outputs": [
    {
     "data": {
      "image/png": "[encoded data removed]",
      "text/plain": [
       "<matplotlib.figure.Figure at 0x1ee81b4d518>"
      ]
     },
     "metadata": {},
     "output_type": "display_data"
    }
   ],
   "source": [
    "plt.figure(figsize=(8,6))\n",
    "ax=sns.barplot(x='count',y='Quality Parameter',data=BIHAR)\n",
    "ax.set(xlabel='COUNT')\n",
    "sns.despine(left=True,bottom=True)\n",
    "plt.title(\"WATER QUALITY IN BIHAR \")\n",
    "fig=ax.get_figure()\n",
    "fig.savefig(\"BIHAR.png\")"
   ]
  },
  {
   "cell_type": "code",
   "execution_count": 111,
   "metadata": {
    "collapsed": false
   },
   "outputs": [
    {
     "data": {
      "text/html": [
       "<div>\n",
       "<table border=\"1\" class=\"dataframe\">\n",
       "  <thead>\n",
       "    <tr style=\"text-align: right;\">\n",
       "      <th></th>\n",
       "      <th>State Name</th>\n",
       "      <th>Quality</th>\n",
       "      <th>Quality Parameter</th>\n",
       "      <th>count</th>\n",
       "    </tr>\n",
       "  </thead>\n",
       "  <tbody>\n",
       "  </tbody>\n",
       "</table>\n",
       "</div>"
      ],
      "text/plain": [
       "Empty DataFrame\n",
       "Columns: [State Name, Quality, Quality Parameter, count]\n",
       "Index: []"
      ]
     },
     "execution_count": 111,
     "metadata": {},
     "output_type": "execute_result"
    }
   ],
   "source": [
    "GUJRAT"
   ]
  },
  {
   "cell_type": "code",
   "execution_count": 112,
   "metadata": {
    "collapsed": false
   },
   "outputs": [
    {
     "ename": "ValueError",
     "evalue": "min() arg is an empty sequence",
     "output_type": "error",
     "traceback": [
      "\u001b[0;31m---------------------------------------\u001b[0m",
      "\u001b[0;31mValueError\u001b[0mTraceback (most recent call last)",
      "\u001b[0;32m<ipython-input-112-ee02f027cf80>\u001b[0m in \u001b[0;36m<module>\u001b[0;34m()\u001b[0m\n\u001b[1;32m      1\u001b[0m \u001b[1;31m#This will show error as Gujarat is empty in the given dataset\u001b[0m\u001b[1;33m\u001b[0m\u001b[1;33m\u001b[0m\u001b[0m\n\u001b[1;32m      2\u001b[0m \u001b[0mplt\u001b[0m\u001b[1;33m.\u001b[0m\u001b[0mfigure\u001b[0m\u001b[1;33m(\u001b[0m\u001b[0mfigsize\u001b[0m\u001b[1;33m=\u001b[0m\u001b[1;33m(\u001b[0m\u001b[1;36m8\u001b[0m\u001b[1;33m,\u001b[0m\u001b[1;36m6.40\u001b[0m\u001b[1;33m)\u001b[0m\u001b[1;33m)\u001b[0m\u001b[1;33m\u001b[0m\u001b[0m\n\u001b[0;32m----> 3\u001b[0;31m \u001b[0max\u001b[0m\u001b[1;33m=\u001b[0m\u001b[0msns\u001b[0m\u001b[1;33m.\u001b[0m\u001b[0mbarplot\u001b[0m\u001b[1;33m(\u001b[0m\u001b[0mx\u001b[0m\u001b[1;33m=\u001b[0m\u001b[1;34m'count'\u001b[0m\u001b[1;33m,\u001b[0m\u001b[0my\u001b[0m\u001b[1;33m=\u001b[0m\u001b[1;34m'Quality Parameter'\u001b[0m\u001b[1;33m,\u001b[0m\u001b[0mdata\u001b[0m\u001b[1;33m=\u001b[0m\u001b[0mGUJRAT\u001b[0m\u001b[1;33m)\u001b[0m\u001b[1;33m\u001b[0m\u001b[0m\n\u001b[0m\u001b[1;32m      4\u001b[0m \u001b[0max\u001b[0m\u001b[1;33m.\u001b[0m\u001b[0mset\u001b[0m\u001b[1;33m(\u001b[0m\u001b[0mxlabel\u001b[0m\u001b[1;33m=\u001b[0m\u001b[1;34m'COUNT'\u001b[0m\u001b[1;33m)\u001b[0m\u001b[1;33m\u001b[0m\u001b[0m\n\u001b[1;32m      5\u001b[0m \u001b[0msns\u001b[0m\u001b[1;33m.\u001b[0m\u001b[0mdespine\u001b[0m\u001b[1;33m(\u001b[0m\u001b[0mleft\u001b[0m\u001b[1;33m=\u001b[0m\u001b[1;32mTrue\u001b[0m\u001b[1;33m,\u001b[0m\u001b[0mbottom\u001b[0m\u001b[1;33m=\u001b[0m\u001b[1;32mTrue\u001b[0m\u001b[1;33m)\u001b[0m\u001b[1;33m\u001b[0m\u001b[0m\n",
      "\u001b[0;32mC:\\ProgramData\\Anaconda3\\lib\\site-packages\\seaborn\\categorical.py\u001b[0m in \u001b[0;36mbarplot\u001b[0;34m(x, y, hue, data, order, hue_order, estimator, ci, n_boot, units, orient, color, palette, saturation, errcolor, errwidth, capsize, ax, **kwargs)\u001b[0m\n\u001b[1;32m   2897\u001b[0m                           \u001b[0mestimator\u001b[0m\u001b[1;33m,\u001b[0m \u001b[0mci\u001b[0m\u001b[1;33m,\u001b[0m \u001b[0mn_boot\u001b[0m\u001b[1;33m,\u001b[0m \u001b[0munits\u001b[0m\u001b[1;33m,\u001b[0m\u001b[1;33m\u001b[0m\u001b[0m\n\u001b[1;32m   2898\u001b[0m                           \u001b[0morient\u001b[0m\u001b[1;33m,\u001b[0m \u001b[0mcolor\u001b[0m\u001b[1;33m,\u001b[0m \u001b[0mpalette\u001b[0m\u001b[1;33m,\u001b[0m \u001b[0msaturation\u001b[0m\u001b[1;33m,\u001b[0m\u001b[1;33m\u001b[0m\u001b[0m\n\u001b[0;32m-> 2899\u001b[0;31m                           errcolor, errwidth, capsize)\n\u001b[0m\u001b[1;32m   2900\u001b[0m \u001b[1;33m\u001b[0m\u001b[0m\n\u001b[1;32m   2901\u001b[0m     \u001b[1;32mif\u001b[0m \u001b[0max\u001b[0m \u001b[1;32mis\u001b[0m \u001b[1;32mNone\u001b[0m\u001b[1;33m:\u001b[0m\u001b[1;33m\u001b[0m\u001b[0m\n",
      "\u001b[0;32mC:\\ProgramData\\Anaconda3\\lib\\site-packages\\seaborn\\categorical.py\u001b[0m in \u001b[0;36m__init__\u001b[0;34m(self, x, y, hue, data, order, hue_order, estimator, ci, n_boot, units, orient, color, palette, saturation, errcolor, errwidth, capsize)\u001b[0m\n\u001b[1;32m   1542\u001b[0m         self.establish_variables(x, y, hue, data, orient,\n\u001b[1;32m   1543\u001b[0m                                  order, hue_order, units)\n\u001b[0;32m-> 1544\u001b[0;31m         \u001b[0mself\u001b[0m\u001b[1;33m.\u001b[0m\u001b[0mestablish_colors\u001b[0m\u001b[1;33m(\u001b[0m\u001b[0mcolor\u001b[0m\u001b[1;33m,\u001b[0m \u001b[0mpalette\u001b[0m\u001b[1;33m,\u001b[0m \u001b[0msaturation\u001b[0m\u001b[1;33m)\u001b[0m\u001b[1;33m\u001b[0m\u001b[0m\n\u001b[0m\u001b[1;32m   1545\u001b[0m         \u001b[0mself\u001b[0m\u001b[1;33m.\u001b[0m\u001b[0mestimate_statistic\u001b[0m\u001b[1;33m(\u001b[0m\u001b[0mestimator\u001b[0m\u001b[1;33m,\u001b[0m \u001b[0mci\u001b[0m\u001b[1;33m,\u001b[0m \u001b[0mn_boot\u001b[0m\u001b[1;33m)\u001b[0m\u001b[1;33m\u001b[0m\u001b[0m\n\u001b[1;32m   1546\u001b[0m \u001b[1;33m\u001b[0m\u001b[0m\n",
      "\u001b[0;32mC:\\ProgramData\\Anaconda3\\lib\\site-packages\\seaborn\\categorical.py\u001b[0m in \u001b[0;36mestablish_colors\u001b[0;34m(self, color, palette, saturation)\u001b[0m\n\u001b[1;32m    304\u001b[0m         \u001b[1;31m# Determine the gray color to use for the lines framing the plot\u001b[0m\u001b[1;33m\u001b[0m\u001b[1;33m\u001b[0m\u001b[0m\n\u001b[1;32m    305\u001b[0m         \u001b[0mlight_vals\u001b[0m \u001b[1;33m=\u001b[0m \u001b[1;33m[\u001b[0m\u001b[0mcolorsys\u001b[0m\u001b[1;33m.\u001b[0m\u001b[0mrgb_to_hls\u001b[0m\u001b[1;33m(\u001b[0m\u001b[1;33m*\u001b[0m\u001b[0mc\u001b[0m\u001b[1;33m)\u001b[0m\u001b[1;33m[\u001b[0m\u001b[1;36m1\u001b[0m\u001b[1;33m]\u001b[0m \u001b[1;32mfor\u001b[0m \u001b[0mc\u001b[0m \u001b[1;32min\u001b[0m \u001b[0mrgb_colors\u001b[0m\u001b[1;33m]\u001b[0m\u001b[1;33m\u001b[0m\u001b[0m\n\u001b[0;32m--> 306\u001b[0;31m         \u001b[0ml\u001b[0m \u001b[1;33m=\u001b[0m \u001b[0mmin\u001b[0m\u001b[1;33m(\u001b[0m\u001b[0mlight_vals\u001b[0m\u001b[1;33m)\u001b[0m \u001b[1;33m*\u001b[0m \u001b[1;36m.6\u001b[0m\u001b[1;33m\u001b[0m\u001b[0m\n\u001b[0m\u001b[1;32m    307\u001b[0m         \u001b[0mgray\u001b[0m \u001b[1;33m=\u001b[0m \u001b[0mmpl\u001b[0m\u001b[1;33m.\u001b[0m\u001b[0mcolors\u001b[0m\u001b[1;33m.\u001b[0m\u001b[0mrgb2hex\u001b[0m\u001b[1;33m(\u001b[0m\u001b[1;33m(\u001b[0m\u001b[0ml\u001b[0m\u001b[1;33m,\u001b[0m \u001b[0ml\u001b[0m\u001b[1;33m,\u001b[0m \u001b[0ml\u001b[0m\u001b[1;33m)\u001b[0m\u001b[1;33m)\u001b[0m\u001b[1;33m\u001b[0m\u001b[0m\n\u001b[1;32m    308\u001b[0m \u001b[1;33m\u001b[0m\u001b[0m\n",
      "\u001b[0;31mValueError\u001b[0m: min() arg is an empty sequence"
     ]
    },
    {
     "data": {
      "text/plain": [
       "<matplotlib.figure.Figure at 0x1ee8ade2d68>"
      ]
     },
     "metadata": {},
     "output_type": "display_data"
    }
   ],
   "source": [
    "#This will show error as Gujarat is empty in the given dataset\n",
    "plt.figure(figsize=(8,6.40))\n",
    "ax=sns.barplot(x='count',y='Quality Parameter',data=GUJRAT)\n",
    "ax.set(xlabel='COUNT')\n",
    "sns.despine(left=True,bottom=True)\n",
    "plt.title(\"WATER QUALITY IN GUJRAT \")\n",
    "fig=ax.get_figure()\n",
    "fig.savefig(\"GUJRAT.png\") "
   ]
  }
 ],
 "metadata": {
  "kernelspec": {
   "display_name": "Python 3",
   "language": "python",
   "name": "python3"
  },
  "language_info": {
   "codemirror_mode": {
    "name": "ipython",
    "version": 3
   },
   "file_extension": ".py",
   "mimetype": "text/x-python",
   "name": "python",
   "nbconvert_exporter": "python",
   "pygments_lexer": "ipython3",
   "version": "3.6.0"
  }
 },
 "nbformat": 4,
 "nbformat_minor": 2
}
